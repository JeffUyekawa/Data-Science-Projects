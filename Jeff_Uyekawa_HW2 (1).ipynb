{
 "cells": [
  {
   "cell_type": "markdown",
   "id": "e4bec819",
   "metadata": {},
   "source": [
    "## Python assignment instruction\n",
    "Write down your answer in a code cell for each problem.\n",
    "Execute them and display the result."
   ]
  },
  {
   "cell_type": "markdown",
   "id": "ff5d8786",
   "metadata": {},
   "source": [
    "## Reading:\n",
    "[Python tutorial](https://docs.python.org/3.7/tutorial/) 3.1, 4.1 - 4.7, 5.1 - 5.6\n",
    "\n",
    "Another good source\n",
    "https://cs231n.github.io/python-numpy-tutorial/"
   ]
  },
  {
   "cell_type": "markdown",
   "id": "32314df2",
   "metadata": {},
   "source": [
    "1. Can you add an int type variable and a float type variable? If yes, what is the variable type of your result?<br>\n",
    "Show it in an example."
   ]
  },
  {
   "cell_type": "code",
   "execution_count": null,
   "id": "7856d5ba",
   "metadata": {},
   "outputs": [],
   "source": [
    "#Yes you can, the result will be a float type\n",
    "x = 2\n",
    "y = 5.7\n",
    "z = x + y\n",
    "print(type(x), type(y), type(z))"
   ]
  },
  {
   "cell_type": "markdown",
   "id": "3d3268ec",
   "metadata": {},
   "source": [
    "2. Define a string 'Mathematician', and extract the substring 'matician' use `seq[start:stop]` command."
   ]
  },
  {
   "cell_type": "code",
   "execution_count": 27,
   "id": "d89d0249",
   "metadata": {},
   "outputs": [
    {
     "name": "stdout",
     "output_type": "stream",
     "text": [
      "matician\n"
     ]
    }
   ],
   "source": [
    "my_string = 'Mathematician'\n",
    "my_substring = my_string[5:]\n",
    "print(my_substring)"
   ]
  },
  {
   "cell_type": "markdown",
   "id": "c9668cf2",
   "metadata": {},
   "source": [
    "3. Find the length of a list. Creat a list s = [1,2,3,4,5,6,7,8]. Search in Google and find out the command, and use it to determine the length of s."
   ]
  },
  {
   "cell_type": "code",
   "execution_count": 28,
   "id": "3b381aac",
   "metadata": {},
   "outputs": [
    {
     "name": "stdout",
     "output_type": "stream",
     "text": [
      "8\n"
     ]
    }
   ],
   "source": [
    "s = [1,2,3,4,5,6,7,8]\n",
    "s_length = len(s)\n",
    "print(s_length)"
   ]
  },
  {
   "cell_type": "markdown",
   "id": "f3004b33",
   "metadata": {},
   "source": [
    "4. Use the range function to create the following list: 1, 3, 5, 7, 9"
   ]
  },
  {
   "cell_type": "code",
   "execution_count": 29,
   "id": "0964c224",
   "metadata": {},
   "outputs": [
    {
     "data": {
      "text/plain": [
       "[1, 3, 5, 7, 9]"
      ]
     },
     "execution_count": 29,
     "metadata": {},
     "output_type": "execute_result"
    }
   ],
   "source": [
    "list(range(1,10,2))"
   ]
  },
  {
   "cell_type": "markdown",
   "id": "be0a4ed7",
   "metadata": {},
   "source": [
    "5. Use a for loop to generate the Fibonacci sequence of length 20: 0, 1, 1, 2, 3, 5, 8, 13, 21, 34, ... as a list."
   ]
  },
  {
   "cell_type": "code",
   "execution_count": 30,
   "id": "97b0695b",
   "metadata": {},
   "outputs": [
    {
     "data": {
      "text/plain": [
       "[1,\n",
       " 1,\n",
       " 2,\n",
       " 3,\n",
       " 5,\n",
       " 8,\n",
       " 13,\n",
       " 21,\n",
       " 34,\n",
       " 55,\n",
       " 89,\n",
       " 144,\n",
       " 233,\n",
       " 377,\n",
       " 610,\n",
       " 987,\n",
       " 1597,\n",
       " 2584,\n",
       " 4181,\n",
       " 6765]"
      ]
     },
     "execution_count": 30,
     "metadata": {},
     "output_type": "execute_result"
    }
   ],
   "source": [
    "list_5 = [1,1]\n",
    "for i in range(2,20):\n",
    "    list_5.append(list_5[i-2]+list_5[i-1])\n",
    "    \n",
    "list_5"
   ]
  },
  {
   "cell_type": "markdown",
   "id": "b34024ca",
   "metadata": {},
   "source": [
    "6. Let a=[1, 1, 1, 2, 1, 4, 6, 8, 9, 7, 3, 10, 3, 10]. Split the list $a$ into two lists $b$ and $c$ with equal sum that follows the original order.\n",
    "Your result: $b=$? $c=$?\n"
   ]
  },
  {
   "cell_type": "code",
   "execution_count": 34,
   "id": "c56b405b",
   "metadata": {},
   "outputs": [
    {
     "name": "stdout",
     "output_type": "stream",
     "text": [
      "list b = [1, 1, 1, 2, 1, 4, 6, 8, 9] with sum 33, and list c = [7, 3, 10, 3, 10] with sum 33\n"
     ]
    }
   ],
   "source": [
    "a=[1, 1, 1, 2, 1, 4, 6, 8, 9, 7, 3, 10, 3, 10]\n",
    "\n",
    "for i,num in enumerate(a):\n",
    "    if sum(a[:i+1]) == sum(a[i+1:]):\n",
    "        break\n",
    "b = a[:i+1]\n",
    "c = a[i+1:]\n",
    "print(f'list b = {b} with sum {sum(b)}, and list c = {c} with sum {sum(c)}')"
   ]
  },
  {
   "cell_type": "markdown",
   "id": "cfef3000",
   "metadata": {},
   "source": [
    "7. Use a list comprehension to create: [[1,2,3],[2,4,6],[3,6,9],[4,8,12]]."
   ]
  },
  {
   "cell_type": "code",
   "execution_count": 1,
   "id": "6746fcf6",
   "metadata": {},
   "outputs": [
    {
     "data": {
      "text/plain": [
       "[[1, 2, 3], [2, 4, 6], [3, 6, 9], [4, 8, 12]]"
      ]
     },
     "execution_count": 1,
     "metadata": {},
     "output_type": "execute_result"
    }
   ],
   "source": [
    "list_comp = [[i*j for j in range(1,4)] for i in range(1,5)]\n",
    "list_comp"
   ]
  },
  {
   "cell_type": "code",
   "execution_count": null,
   "id": "d63e4646",
   "metadata": {},
   "outputs": [],
   "source": []
  }
 ],
 "metadata": {
  "kernelspec": {
   "display_name": "Python 3 (ipykernel)",
   "language": "python",
   "name": "python3"
  },
  "language_info": {
   "codemirror_mode": {
    "name": "ipython",
    "version": 3
   },
   "file_extension": ".py",
   "mimetype": "text/x-python",
   "name": "python",
   "nbconvert_exporter": "python",
   "pygments_lexer": "ipython3",
   "version": "3.9.13"
  }
 },
 "nbformat": 4,
 "nbformat_minor": 5
}
